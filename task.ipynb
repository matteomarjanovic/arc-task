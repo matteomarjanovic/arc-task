{
 "cells": [
  {
   "cell_type": "code",
   "execution_count": 1,
   "metadata": {},
   "outputs": [],
   "source": [
    "# Define the types used in the notebook\n",
    "\n",
    "from typing import FrozenSet, Tuple, Set\n",
    "\n",
    "# Colors\n",
    "BLACK = 0\n",
    "BLUE = 1\n",
    "RED = 2\n",
    "GREEN = 3\n",
    "YELLOW = 4\n",
    "GREY = 5\n",
    "PINK = 6\n",
    "ORANGE = 7\n",
    "LBLUE = 8\n",
    "BROWN = 9\n",
    "BLANK = 42\n",
    "\n",
    "\n",
    "Grid = Tuple[Tuple[int]]\n",
    "Color = int\n",
    "Cell = Tuple[Color, Tuple[int, int]]\n",
    "Object = FrozenSet[Cell]"
   ]
  },
  {
   "cell_type": "code",
   "execution_count": 2,
   "metadata": {},
   "outputs": [],
   "source": [
    "# Define plotting function to visualise grids\n",
    "\n",
    "import numpy as np\n",
    "\n",
    "import matplotlib.pyplot as plt\n",
    "\n",
    "def plot_colored_grid(grid: Grid) -> None:\n",
    "    # Create color map\n",
    "    colors = {\n",
    "        BLACK: 'black',\n",
    "        BLUE: 'blue', \n",
    "        RED: 'red',\n",
    "        GREEN: 'green',\n",
    "        YELLOW: 'yellow',\n",
    "        GREY: 'grey',\n",
    "        PINK: 'pink',\n",
    "        ORANGE: 'orange',\n",
    "        LBLUE: 'lightblue',\n",
    "        BROWN: 'brown',\n",
    "        BLANK: 'white'\n",
    "    }\n",
    "    \n",
    "    # Convert grid to numpy array\n",
    "    grid_array = np.array(grid)\n",
    "    \n",
    "    # Create figure and axis\n",
    "    plt.figure(figsize=(3, 3))\n",
    "    \n",
    "    # Plot colored cells\n",
    "    for i in range(len(grid)):\n",
    "        for j in range(len(grid[0])):\n",
    "            color = colors[grid[i][j]]\n",
    "            plt.fill([j, j+1, j+1, j], [i, i, i+1, i+1], color=color, edgecolor='black')\n",
    "            \n",
    "    # Set plot properties\n",
    "    plt.xlim(-0.1, len(grid[0])+0.1)\n",
    "    plt.ylim(-0.1, len(grid)+0.1)\n",
    "    plt.gca().set_aspect('equal')\n",
    "    plt.gca().invert_yaxis()\n",
    "    plt.axis('off')\n",
    "    plt.show()"
   ]
  },
  {
   "cell_type": "code",
   "execution_count": 3,
   "metadata": {},
   "outputs": [],
   "source": [
    "def get_objects(grid: Grid) -> int:\n",
    "    \"\"\"\n",
    "    Get the objects in a grid. An object is defined as a set of cells\n",
    "    that have the same color and are connected. Two cells are connected\n",
    "    if they are adjacent (horizontally or vertically).\n",
    "    \"\"\"\n",
    "    visited: set[Tuple[int, int]] = set()\n",
    "    objects: set[Object] = set()\n",
    "    coords = {(i, j) for i in range(len(grid)) for j in range(len(grid[0]))}\n",
    "    for i, j in coords:\n",
    "        # Skip if already visited\n",
    "        if (i, j) in visited:\n",
    "            continue\n",
    "        visited.add((i, j))\n",
    "        object = {(grid[i][j], (i, j))}\n",
    "        curr_color = grid[i][j]\n",
    "        stack: list[Tuple[int, int]] = [(i, j)]\n",
    "        while stack:\n",
    "            curr_coord = stack.pop()\n",
    "            neighbors = [\n",
    "                (curr_coord[0] + dx, curr_coord[1] + dy)\n",
    "                for dx, dy in ((-1, 0), (1, 0), (0, -1), (0, 1))\n",
    "            ]\n",
    "            for neighbor in neighbors:\n",
    "                if (\n",
    "                    neighbor in coords\n",
    "                    and neighbor not in visited\n",
    "                    and grid[neighbor[0]][neighbor[1]] == curr_color\n",
    "                ):\n",
    "                    visited.add(neighbor)\n",
    "                    stack.append(neighbor)\n",
    "                    object.add((grid[neighbor[0]][neighbor[1]], neighbor))\n",
    "        final_object: Object = frozenset(object)\n",
    "        objects.add(final_object)\n",
    "    return objects\n",
    "                        "
   ]
  },
  {
   "cell_type": "code",
   "execution_count": 4,
   "metadata": {},
   "outputs": [],
   "source": [
    "def filter_touch_border(objects: set[Object], grid: Grid) -> Set[Object]:\n",
    "    \"\"\"\n",
    "    Filter objects that touch the border of the grid.\n",
    "    \"\"\"\n",
    "    found_objs = set()\n",
    "    for obj in objects:\n",
    "        coords = {cell[1] for cell in obj}\n",
    "        if any(\n",
    "            coord[0] == 0 or coord[0] == len(grid) - 1 or\n",
    "            coord[1] == 0 or coord[1] == len(grid[0]) - 1\n",
    "            for coord in coords\n",
    "        ):\n",
    "            found_objs.add(obj)\n",
    "    return found_objs\n",
    "\n",
    "def filter_color(objects: set[Object], color: Color) -> Set[Object]:\n",
    "    \"\"\"\n",
    "    Filter objects by color.\n",
    "    \"\"\"\n",
    "    return {obj for obj in objects if any(cell[0] == color for cell in obj)}\n",
    "\n",
    "def xor_objs(objects: set[Object]) -> Set[Object]:\n",
    "    \"\"\"\n",
    "    Combine all objects into a single object.\n",
    "    \"\"\"\n",
    "    xor_result = set()\n",
    "    for obj in objects:\n",
    "        xor_result ^= obj\n",
    "    return xor_result\n",
    "\n",
    "def or_objs(objects: set[Object]) -> Set[Object]:\n",
    "    \"\"\"\n",
    "    Combine all objects into a single object.\n",
    "    \"\"\"\n",
    "    or_result = set()\n",
    "    for obj in objects:\n",
    "        or_result |= obj\n",
    "    return or_result\n",
    "\n",
    "def find_neighbors(obj: Object, incl_diag=False, incl_self=False) -> Set[Tuple[int, int]]:\n",
    "    \"\"\"\n",
    "    Find all the neighbors of the cells in the object.\n",
    "    A neighbor is defined as a cell that is adjacent (horizontally or vertically)\n",
    "    to a cell in the object.\n",
    "    \"\"\"\n",
    "    neighbors = set()\n",
    "    diffs = ((-1, 0), (1, 0), (0, -1), (0, 1))\n",
    "    if incl_diag:\n",
    "        diffs += ((-1, -1), (-1, 1), (1, -1), (1, 1))\n",
    "    for cell in obj:\n",
    "        for dx, dy in diffs:\n",
    "            neighbor = (cell[1][0] + dx, cell[1][1] + dy)\n",
    "            if neighbor in obj and not incl_self:\n",
    "                continue\n",
    "            neighbors.add(neighbor)\n",
    "    return neighbors\n",
    "\n",
    "def touching_cells(objs1: Set[Object], objs2: Set[Object], incl_diag=False) -> Set[Object]:\n",
    "    \"\"\"\n",
    "    Find all the cells of objs1 that are touching any cell of objs2.\n",
    "    \"\"\"\n",
    "    unified_obj1 = or_objs(objs1)\n",
    "    unified_obj2 = or_objs(objs2)\n",
    "    return {frozenset({(BLANK, neigh) for neigh in find_neighbors(unified_obj1, incl_diag=incl_diag) if neigh in {cell[1] for cell in unified_obj2}})}\n",
    "\n",
    "def touching_objects(objs1: Set[Object], objs2: Set[Object], incl_diag=False) -> Set[Object]:\n",
    "    \"\"\"\n",
    "    Find all the objects of objs1 that are touching any object of objs2.\n",
    "    \"\"\"\n",
    "    unified_obj1 = or_objs(objs1)\n",
    "    result = set()\n",
    "    neighbors = find_neighbors(unified_obj1, incl_diag=incl_diag)\n",
    "    for neigh in neighbors:\n",
    "        for obj in objs2:\n",
    "            if neigh in {cell[1] for cell in obj}:\n",
    "                result.add(obj)\n",
    "                break\n",
    "    return result\n",
    "\n",
    "\n",
    "def change_color(objects: Set[Object], color: Color) -> Object:\n",
    "    \"\"\"\n",
    "    Change the color of all cells in the object to the given color.\n",
    "    \"\"\"\n",
    "    return {frozenset({(color, cell[1]) for cell in obj}) for obj in objects}\n",
    "\n",
    "def write_on_grid(objects: Set[Object], grid: Grid) -> Grid:\n",
    "    \"\"\"\n",
    "    Write the objects on the grid.\n",
    "    \"\"\"\n",
    "    new_grid = [list(row) for row in grid]\n",
    "    for obj in objects:\n",
    "        for cell in obj:\n",
    "            new_grid[cell[1][0]][cell[1][1]] = cell[0]\n",
    "    return tuple(tuple(row) for row in new_grid)"
   ]
  },
  {
   "cell_type": "code",
   "execution_count": 5,
   "metadata": {},
   "outputs": [],
   "source": [
    "def solve(grid: Grid) -> Grid:\n",
    "    \"\"\"\n",
    "    Solve the new problem.\n",
    "    \"\"\"\n",
    "    objects = get_objects(grid)\n",
    "    black_objects = filter_color(objects, BLACK)\n",
    "    border_black_objects = filter_touch_border(black_objects, grid)\n",
    "    inner_black_objects = xor_objs([black_objects, border_black_objects])\n",
    "    blue_objects = filter_color(objects, BLUE)\n",
    "    closed_blue_objects = change_color(touching_objects(inner_black_objects, blue_objects, incl_diag=True), BLUE)\n",
    "    outer_border = change_color(touching_cells(closed_blue_objects, border_black_objects, incl_diag=True), RED)\n",
    "    inner_border = change_color(touching_cells(closed_blue_objects, inner_black_objects, incl_diag=True), GREEN)\n",
    "    new_grid = write_on_grid(outer_border | inner_border, grid)\n",
    "    return new_grid"
   ]
  },
  {
   "cell_type": "code",
   "execution_count": null,
   "metadata": {},
   "outputs": [],
   "source": [
    "# Import the grids from a json file\n",
    "# I found it here: https://github.com/mxbi/arckit/blob/main/arckit/data/arcagi_aa922be.json\n",
    "\n",
    "import json\n",
    "\n",
    "def read_input_file(filename: str) -> Grid:\n",
    "    with open(filename, 'r') as f:\n",
    "        data = json.load(f)\n",
    "    grids = []\n",
    "    for g in data[\"train\"]:\n",
    "        grids.append(g[\"input\"])\n",
    "    for g in data[\"test\"]:\n",
    "        grids.append(g[\"input\"])\n",
    "    # change grid colors\n",
    "    # 0 -> BLACK, 1 -> BLUE\n",
    "    for grid in grids:\n",
    "        for i in range(len(grid)):\n",
    "            for j in range(len(grid[0])):\n",
    "                if grid[i][j] == 0:\n",
    "                    grid[i][j] = BLACK\n",
    "                elif grid[i][j] == 1:\n",
    "                    grid[i][j] = BLUE\n",
    "                else:\n",
    "                    raise ValueError(f\"Unknown color: {grid[i][j]}\")\n",
    "    # Convert the JSON data to the Grid type (Tuple[Tuple[int]])\n",
    "    return [tuple(tuple(row) for row in grid) for grid in grids]\n",
    "\n",
    "input_grids = read_input_file(\"input.json\")"
   ]
  },
  {
   "cell_type": "code",
   "execution_count": null,
   "metadata": {},
   "outputs": [
    {
     "name": "stdout",
     "output_type": "stream",
     "text": [
      "Original grid:\n"
     ]
    },
    {
     "data": {
      "image/png": "[encoded data removed]",
      "text/plain": [
       "<Figure size 300x300 with 1 Axes>"
      ]
     },
     "metadata": {},
     "output_type": "display_data"
    },
    {
     "name": "stdout",
     "output_type": "stream",
     "text": [
      "Solved grid:\n"
     ]
    },
    {
     "data": {
      "image/png": "[encoded data removed]",
      "text/plain": [
       "<Figure size 300x300 with 1 Axes>"
      ]
     },
     "metadata": {},
     "output_type": "display_data"
    },
    {
     "name": "stdout",
     "output_type": "stream",
     "text": [
      "Original grid:\n"
     ]
    },
    {
     "data": {
      "image/png": "[encoded data removed]",
      "text/plain": [
       "<Figure size 300x300 with 1 Axes>"
      ]
     },
     "metadata": {},
     "output_type": "display_data"
    },
    {
     "name": "stdout",
     "output_type": "stream",
     "text": [
      "Solved grid:\n"
     ]
    },
    {
     "data": {
      "image/png": "[encoded data removed]",
      "text/plain": [
       "<Figure size 300x300 with 1 Axes>"
      ]
     },
     "metadata": {},
     "output_type": "display_data"
    },
    {
     "name": "stdout",
     "output_type": "stream",
     "text": [
      "Original grid:\n"
     ]
    },
    {
     "data": {
      "image/png": "[encoded data removed]",
      "text/plain": [
       "<Figure size 300x300 with 1 Axes>"
      ]
     },
     "metadata": {},
     "output_type": "display_data"
    },
    {
     "name": "stdout",
     "output_type": "stream",
     "text": [
      "Solved grid:\n"
     ]
    },
    {
     "data": {
      "image/png": "[encoded data removed]",
      "text/plain": [
       "<Figure size 300x300 with 1 Axes>"
      ]
     },
     "metadata": {},
     "output_type": "display_data"
    },
    {
     "name": "stdout",
     "output_type": "stream",
     "text": [
      "Original grid:\n"
     ]
    },
    {
     "data": {
      "image/png": "[encoded data removed]",
      "text/plain": [
       "<Figure size 300x300 with 1 Axes>"
      ]
     },
     "metadata": {},
     "output_type": "display_data"
    },
    {
     "name": "stdout",
     "output_type": "stream",
     "text": [
      "Solved grid:\n"
     ]
    },
    {
     "data": {
      "image/png": "[encoded data removed]",
      "text/plain": [
       "<Figure size 300x300 with 1 Axes>"
      ]
     },
     "metadata": {},
     "output_type": "display_data"
    },
    {
     "name": "stdout",
     "output_type": "stream",
     "text": [
      "Original grid:\n"
     ]
    },
    {
     "data": {
      "image/png": "[encoded data removed]",
      "text/plain": [
       "<Figure size 300x300 with 1 Axes>"
      ]
     },
     "metadata": {},
     "output_type": "display_data"
    },
    {
     "name": "stdout",
     "output_type": "stream",
     "text": [
      "Solved grid:\n"
     ]
    },
    {
     "data": {
      "image/png": "[encoded data removed]",
      "text/plain": [
       "<Figure size 300x300 with 1 Axes>"
      ]
     },
     "metadata": {},
     "output_type": "display_data"
    }
   ],
   "source": [
    "# Solve the grids and plot them\n",
    "\n",
    "for grid in input_grids:\n",
    "    print(\"Original grid:\")\n",
    "    plot_colored_grid(grid)\n",
    "    print(\"Solved grid:\")\n",
    "    plot_colored_grid(solve(grid))"
   ]
  },
  {
   "cell_type": "code",
   "execution_count": null,
   "metadata": {},
   "outputs": [],
   "source": []
  }
 ],
 "metadata": {
  "kernelspec": {
   "display_name": ".venv",
   "language": "python",
   "name": "python3"
  },
  "language_info": {
   "codemirror_mode": {
    "name": "ipython",
    "version": 3
   },
   "file_extension": ".py",
   "mimetype": "text/x-python",
   "name": "python",
   "nbconvert_exporter": "python",
   "pygments_lexer": "ipython3",
   "version": "3.12.4"
  }
 },
 "nbformat": 4,
 "nbformat_minor": 2
}
